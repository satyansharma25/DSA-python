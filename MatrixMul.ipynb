{
 "cells": [
  {
   "cell_type": "markdown",
   "metadata": {},
   "source": [
    "To multiply matrices $A(m \\times n)$ and $B(n \\times p)$ resulting in matrix $AB(m \\times p)$. And matrix multiplication is associative\n",
    "\n",
    "$ABC = (AB)C = A(BC)$\n"
   ]
  },
  {
   "cell_type": "markdown",
   "metadata": {},
   "source": []
  }
 ],
 "metadata": {
  "language_info": {
   "name": "python"
  }
 },
 "nbformat": 4,
 "nbformat_minor": 2
}
