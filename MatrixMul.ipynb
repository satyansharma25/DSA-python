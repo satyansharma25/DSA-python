{
 "cells": [
  {
   "cell_type": "markdown",
   "metadata": {},
   "source": [
    "As we know, multiplying two matrices $A(m \\times n)$ and $B(n \\times p)$ results in matrix $AB(m \\times p)$.\n",
    "- Complexity of computing AB is $O(mnp)$\n",
    "\n",
    "Matrix multiplication is associative:\n",
    "\n",
    "$ABC = (AB)C = A(BC)$\n",
    "\n",
    "Order gives the same result but, affects the complexity of computing. \n",
    "\n",
    "`Example`: Suppose we have matrices $A(1,100)$, $B(100,1)$ and $C(1,100)$. \n",
    "- Computing $BC(100, 100)$ will be $100 \\times 1 \\times 100$ and computing $A(BC)$ will then be $1 \\times 100 \\times 100$. Totalling 20000 steps. \n",
    "\n",
    "On the other hand\n",
    "- Computing $AB(1, 1)$ will be $1 \\times 100 \\times 1$ and computing $(AB)C$ will then be $1 \\times 1 \\times 100$. Totalling 200 steps.\n"
   ]
  },
  {
   "cell_type": "markdown",
   "metadata": {},
   "source": []
  }
 ],
 "metadata": {
  "language_info": {
   "name": "python"
  }
 },
 "nbformat": 4,
 "nbformat_minor": 2
}
