{
 "cells": [
  {
   "cell_type": "code",
   "execution_count": 1,
   "metadata": {},
   "outputs": [],
   "source": [
    "from IPython.display import Image\n",
    "from IPython.core.display import HTML"
   ]
  },
  {
   "cell_type": "markdown",
   "metadata": {},
   "source": [
    "As we know, multiplying two matrices $A(m \\times n)$ and $B(n \\times p)$ results in matrix $AB(m \\times p)$.\n",
    "- Complexity of computing AB is $O(mnp)$\n",
    "\n",
    "Matrix multiplication is associative:\n",
    "\n",
    "$ABC = (AB)C = A(BC)$\n",
    "\n",
    "Order gives the same result but, affects the complexity of computing. \n",
    "\n",
    "`Example`: Suppose we have matrices $A(1,100)$, $B(100,1)$ and $C(1,100)$. \n",
    "- Computing $BC(100, 100)$ will be $100 \\times 1 \\times 100$ and computing $A(BC)$ will then be $1 \\times 100 \\times 100$. Totalling 20000 steps. \n",
    "\n",
    "On the other hand\n",
    "- Computing $AB(1, 1)$ will be $1 \\times 100 \\times 1$ and computing $(AB)C$ will then be $1 \\times 1 \\times 100$. Totalling 200 steps.\n"
   ]
  },
  {
   "cell_type": "markdown",
   "metadata": {},
   "source": [
    "## Optimal way to multiply n such matrices, choose $k$\n",
    "\n",
    "That is find bracketing structure, whether $(AB)C$ or $A(BC)$ for three matrices. Or for four matrices with 3 multiplications:"
   ]
  },
  {
   "cell_type": "markdown",
   "metadata": {},
   "source": [
    "![Representation as a tree](./imgs/matMul-2025-01-09-2201.png)"
   ]
  },
  {
   "cell_type": "markdown",
   "metadata": {},
   "source": [
    " For n such matrices we need to find k such that $(M_1 \\times M_2 \\times M_3 \\times \\cdots \\times M_k) \\times (M_{k+1} \\times M_{k+2} \\times M_{k+3} \\times \\cdots \\times M_n)$ for some $1 \\leq k < n$. FIrst factor will have dim $(r_1,c_k)$ and other will have $(r_{k+1},c_n)$ with the cost $O(r_1c_kc_n)$.\n",
    "\n",
    "### Subproblems\n",
    "- Final step $(M_1 \\times M_2 \\times M_3 \\times \\cdots \\times M_k) \\times (M_{k+1} \\times M_{k+2} \\times M_{k+3} \\times \\cdots \\times M_n)$\n",
    "\n",
    "- Subproblem are $(M_1 \\times M_2 \\times M_3 \\times \\cdots \\times M_k)$ and $(M_{k+1} \\times M_{k+2} \\times M_{k+3} \\times \\cdots \\times M_n)$\n",
    "\n",
    "- Total cost = Cost of Subproblem 1 + Cost of subproblem 2 + Cost of final problem which is $(r_1c_kc_n)$\n",
    "\n",
    "- $n-1$ choices of $k$. Yet again we have $j$ for each subproblem $1 \\cdots k$. So to `generalize`:\n",
    "\n",
    "$Cost(M_i \\times M_{i+1} \\times  \\cdots \\times M_j) = min(Cost(M_i \\times M_{i+1} \\times \\cdots \\times M_k) + Cost(M_{k+1} \\times \\cdots \\times M_j) + (r_i c_k c_j)$\n",
    "\n",
    "## Final Equation\n",
    "\n",
    "- Base case (No multiplication) : $Cost(i,i) = 0$ \n",
    "- $Cost(i,j) = min_{i \\leq k < j} ([Cost(i,k) + Cost(k+1,j) + (r_i c_k c_j)])$ only when $i \\leq j$"
   ]
  },
  {
   "cell_type": "markdown",
   "metadata": {},
   "source": [
    "## Dynamic Programming Approach:\n",
    "\n",
    "1. **Subproblem Definition:**\n",
    "\n",
    "   * Let `C[i, j]` represent the minimum number of scalar multiplications needed to compute the product of matrices `A[i]` to `A[j]`.\n",
    "\n",
    "2. **Base Case:**\n",
    "\n",
    "   * `C[i, i] = 0` for all `i`.\n",
    "3. **Recursive Relation:**\n",
    "\n",
    "   * If `i == j`, `C[i, j] = 0` (single matrix, no multiplication needed).\n",
    "   * If `i < j`:\n",
    "     * `C[i, j] = min(C[i, k] + C[k+1, j] + p[i-1] * p[k] * p[j])` for `k = i` to `j-1`, where `p[i-1]` is the number of rows in `A[i]` and `p[k]` is the number of columns in `A[k]`.\n",
    "\n",
    "4. **Algorithm:**\n",
    "* The algorithm uses a 2D table `C` to store the minimum cost of multiplying subchains of matrices.\n",
    "* It iterates through different chain lengths and calculates the minimum cost for each subchain.\n",
    "* The final result `C[0][n-1]` gives the minimum cost for multiplying the entire chain of matrices.\n",
    "\n",
    "This dynamic programming approach efficiently solves the matrix chain multiplication problem by breaking it down into smaller overlapping subproblems and avoiding redundant calculations."
   ]
  },
  {
   "cell_type": "code",
   "execution_count": 3,
   "metadata": {},
   "outputs": [
    {
     "name": "stdout",
     "output_type": "stream",
     "text": [
      "Minimum number of scalar multiplications: 15125\n"
     ]
    }
   ],
   "source": [
    "def matrix_chain_order(p):\n",
    "    n = len(p) - 1  # Number of matrices\n",
    "\n",
    "    # Initialize C[i, j] for all i and j\n",
    "    C = [[0 for _ in range(n)] for _ in range(n)]\n",
    "\n",
    "    # Compute C[i, j] for all chain lengths\n",
    "    for L in range(2, n + 1):  # L is chain length\n",
    "        for i in range(1, n - L + 2):\n",
    "            j = i + L - 1\n",
    "            C[i - 1][j - 1] = float('inf')\n",
    "            for k in range(i, j):\n",
    "                q = C[i - 1][k - 1] + C[k][j - 1] + p[i - 1] * p[k] * p[j]\n",
    "                if q < C[i - 1][j - 1]:\n",
    "                    C[i - 1][j - 1] = q\n",
    "\n",
    "    return C[0][n - 1]  # Minimum number of scalar multiplications\n",
    "\n",
    "# Example usage:\n",
    "p = [30, 35, 15, 5, 10, 20, 25]  # Dimensions of matrices \n",
    "min_multiplications = matrix_chain_order(p)\n",
    "print(\"Minimum number of scalar multiplications:\", min_multiplications)\n"
   ]
  },
  {
   "cell_type": "markdown",
   "metadata": {},
   "source": [
    "## Time Complexity\n",
    "\n",
    "* **Dynamic Programming:** $O(n^3)$ \n",
    "    * We have three nested loops:\n",
    "        * Outer loop iterates through chain lengths (L).\n",
    "        * Middle loop iterates through the starting index (i) of the subchain.\n",
    "        * Inner loop iterates through possible split points (k) within the subchain.\n",
    "\n",
    "* **Brute Force:** $O(2^n)$ \n",
    "    * In brute force, we would explore all possible parenthesizations, leading to an exponential number of combinations.\n",
    "\n",
    "## Space Complexity:\n",
    "\n",
    "* **Dynamic Programming:** $O(n^2)$\n",
    "    * We use a 2D array `m` of size n x n to store the minimum cost for each subchain.\n",
    "\n",
    "* **Brute Force:** $O(n)$ (approximately) \n",
    "    * Primarily uses recursion stack space, which can grow linearly with the number of matrices in the worst case."
   ]
  },
  {
   "cell_type": "markdown",
   "metadata": {},
   "source": []
  }
 ],
 "metadata": {
  "kernelspec": {
   "display_name": "base",
   "language": "python",
   "name": "python3"
  },
  "language_info": {
   "codemirror_mode": {
    "name": "ipython",
    "version": 3
   },
   "file_extension": ".py",
   "mimetype": "text/x-python",
   "name": "python",
   "nbconvert_exporter": "python",
   "pygments_lexer": "ipython3",
   "version": "3.12.7"
  }
 },
 "nbformat": 4,
 "nbformat_minor": 2
}
