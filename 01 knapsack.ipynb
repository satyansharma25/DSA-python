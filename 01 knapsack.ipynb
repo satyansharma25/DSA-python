{
 "cells": [
  {
   "cell_type": "markdown",
   "id": "9a85ed7d",
   "metadata": {},
   "source": [
    "\n",
    "**Explanation:**\n",
    "\n",
    "1. **Base Case:**\n",
    "   - If there are no items (`n == 0`) or the knapsack capacity is 0 (`W == 0`), the maximum value is 0.\n",
    "\n",
    "2. **Item Cannot Be Included:**\n",
    "   - If the weight of the current item (`wt[n-1]`) is greater than the remaining knapsack capacity (`W`), the item cannot be included in the solution. \n",
    "   - The function recursively calls itself with the same knapsack capacity (`W`) and one item less (`n-1`).\n",
    "\n",
    "3. **Item Can Be Included:**\n",
    "   - The function considers two cases:\n",
    "     - **Include the current item:** \n",
    "       - Calculate the value obtained by including the current item: `val[n-1] + knapSack(W-wt[n-1], wt, val, n-1)`. \n",
    "       - `W-wt[n-1]` represents the remaining capacity after including the current item's weight.\n",
    "     - **Exclude the current item:** \n",
    "       - Calculate the value obtained by excluding the current item: `knapSack(W, wt, val, n-1)`.\n",
    "\n",
    "4. **Return the Maximum:**\n",
    "   - Return the maximum value between the two cases (including and excluding the current item).\n",
    "\n"
   ]
  },
  {
   "cell_type": "code",
   "execution_count": 1,
   "id": "db8c5dd6",
   "metadata": {},
   "outputs": [
    {
     "name": "stdout",
     "output_type": "stream",
     "text": [
      "220\n"
     ]
    }
   ],
   "source": [
    "def knapSack(W, wt, val, n):\n",
    "    \"\"\"\n",
    "    Recursive function to solve the 0/1 Knapsack problem.\n",
    "\n",
    "    Args:\n",
    "        W: Capacity of the knapsack.\n",
    "        wt: List of weights of items.\n",
    "        val: List of values of items.\n",
    "        n: Number of items.\n",
    "\n",
    "    Returns:\n",
    "        Maximum value that can be obtained.\n",
    "    \"\"\"\n",
    "    # Base Case\n",
    "    if n == 0 or W == 0:\n",
    "        return 0\n",
    "\n",
    "    # If weight of the nth item is more than Knapsack capacity W, \n",
    "    # then this item cannot be included in the optimal solution\n",
    "    if wt[n-1] > W:\n",
    "        return knapSack(W, wt, val, n-1)\n",
    "\n",
    "    # Return the maximum of two cases: \n",
    "    # (1) nth item included \n",
    "    # (2) not included\n",
    "    else:\n",
    "        return max(\n",
    "            val[n-1] + knapSack(W-wt[n-1], wt, val, n-1), \n",
    "            knapSack(W, wt, val, n-1)\n",
    "        )\n",
    "\n",
    "# Driver code\n",
    "if __name__ == \"__main__\":\n",
    "    val = [60, 100, 120] \n",
    "    wt = [10, 20, 30] \n",
    "    W = 50\n",
    "    n = len(val)\n",
    "    print(knapSack(W, wt, val, n)) "
   ]
  },
  {
   "cell_type": "code",
   "execution_count": null,
   "id": "84188052",
   "metadata": {},
   "outputs": [],
   "source": []
  }
 ],
 "metadata": {
  "kernelspec": {
   "display_name": "Python 3 (ipykernel)",
   "language": "python",
   "name": "python3"
  },
  "language_info": {
   "codemirror_mode": {
    "name": "ipython",
    "version": 3
   },
   "file_extension": ".py",
   "mimetype": "text/x-python",
   "name": "python",
   "nbconvert_exporter": "python",
   "pygments_lexer": "ipython3",
   "version": "3.8.8"
  }
 },
 "nbformat": 4,
 "nbformat_minor": 5
}
